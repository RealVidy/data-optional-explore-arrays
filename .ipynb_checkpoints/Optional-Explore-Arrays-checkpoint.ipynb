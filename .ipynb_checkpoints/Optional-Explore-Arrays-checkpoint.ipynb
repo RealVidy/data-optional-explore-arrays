{
 "cells": [
  {
   "cell_type": "markdown",
   "id": "5689512b",
   "metadata": {},
   "source": [
    "# Explore $n$-dimensional arrays"
   ]
  },
  {
   "cell_type": "markdown",
   "id": "946e47ca",
   "metadata": {},
   "source": [
    "## Load the arrays"
   ]
  },
  {
   "cell_type": "markdown",
   "id": "9105bee6",
   "metadata": {},
   "source": [
    "👉 First, let's load four arrays stored in NPY format, using the [`numpy.load` function](https://numpy.org/doc/stable/reference/generated/numpy.load.html)."
   ]
  },
  {
   "cell_type": "code",
   "execution_count": null,
   "id": "0d8e3453",
   "metadata": {
    "ExecuteTime": {
     "end_time": "2023-01-26T10:20:32.314992Z",
     "start_time": "2023-01-26T10:20:32.234523Z"
    },
    "vscode": {
     "languageId": "python"
    }
   },
   "outputs": [],
   "source": [
    "import numpy as np\n",
    "\n",
    "array_1 = np.load(\"assets/array_1.npy\")\n",
    "array_2 = np.load(\"assets/array_2.npy\")\n",
    "array_3 = np.load(\"assets/array_3.npy\")\n",
    "array_4 = np.load(\"assets/array_4.npy\")"
   ]
  },
  {
   "cell_type": "code",
   "execution_count": null,
   "id": "e1cc6075",
   "metadata": {
    "ExecuteTime": {
     "end_time": "2023-01-26T10:20:26.020406Z",
     "start_time": "2023-01-26T10:20:26.015632Z"
    },
    "vscode": {
     "languageId": "python"
    }
   },
   "outputs": [],
   "source": [
    "# Inspect their shape, size, ndim... (you can use the `print` function!)"
   ]
  },
  {
   "cell_type": "code",
   "execution_count": null,
   "id": "8e429bc3",
   "metadata": {
    "ExecuteTime": {
     "end_time": "2023-01-26T10:20:30.389357Z",
     "start_time": "2023-01-26T10:20:30.382782Z"
    },
    "vscode": {
     "languageId": "python"
    }
   },
   "outputs": [],
   "source": [
    "# Inspect their dtype, min, max..."
   ]
  },
  {
   "cell_type": "markdown",
   "id": "b40f2f78",
   "metadata": {},
   "source": [
    "***What could these arrays be?***\n",
    "\n",
    "\n",
    "<details>\n",
    "    <summary><i>Answer</i></summary>\n",
    "    \n",
    "🤔 Well... let's find out ⤵️\n",
    "</details>"
   ]
  },
  {
   "cell_type": "markdown",
   "id": "3acecbc7",
   "metadata": {},
   "source": [
    "## What is `array_1`?"
   ]
  },
  {
   "cell_type": "code",
   "execution_count": null,
   "id": "2ac961f3",
   "metadata": {
    "ExecuteTime": {
     "end_time": "2023-01-26T10:20:38.225682Z",
     "start_time": "2023-01-26T10:20:38.221142Z"
    },
    "vscode": {
     "languageId": "python"
    }
   },
   "outputs": [],
   "source": [
    "# Check the shape"
   ]
  },
  {
   "cell_type": "markdown",
   "id": "5835dd0e",
   "metadata": {},
   "source": [
    "👉 Plot `array_1` with `matplotlib.pyplot.plot`."
   ]
  },
  {
   "cell_type": "code",
   "execution_count": null,
   "id": "fcd6e095",
   "metadata": {
    "ExecuteTime": {
     "end_time": "2023-01-26T10:20:44.745655Z",
     "start_time": "2023-01-26T10:20:44.739749Z"
    },
    "vscode": {
     "languageId": "python"
    }
   },
   "outputs": [],
   "source": [
    "# YOUR CODE HERE"
   ]
  },
  {
   "cell_type": "markdown",
   "id": "d34010fc",
   "metadata": {},
   "source": [
    "👉 Does this \"shape\" *sound* familiar? Run the following snippet:"
   ]
  },
  {
   "cell_type": "code",
   "execution_count": null,
   "id": "79eb004c",
   "metadata": {
    "ExecuteTime": {
     "end_time": "2023-01-26T10:20:50.114814Z",
     "start_time": "2023-01-26T10:20:50.084385Z"
    },
    "vscode": {
     "languageId": "python"
    }
   },
   "outputs": [],
   "source": [
    "from IPython.display import Audio\n",
    "rate=48_000\n",
    "Audio(array_1, rate=rate)"
   ]
  },
  {
   "cell_type": "markdown",
   "id": "b6813e14",
   "metadata": {},
   "source": [
    "👉 Use NumPy's `slicing` to isolate one part of the sound"
   ]
  },
  {
   "cell_type": "code",
   "execution_count": null,
   "id": "8f749672",
   "metadata": {
    "vscode": {
     "languageId": "python"
    }
   },
   "outputs": [],
   "source": [
    "# YOUR CODE HERE"
   ]
  },
  {
   "cell_type": "markdown",
   "id": "71af9d20",
   "metadata": {},
   "source": [
    "👉 What happens when you change the rate?"
   ]
  },
  {
   "cell_type": "code",
   "execution_count": null,
   "id": "fd1e6b1c",
   "metadata": {
    "ExecuteTime": {
     "end_time": "2023-01-26T10:21:07.914045Z",
     "start_time": "2023-01-26T10:21:07.906398Z"
    },
    "vscode": {
     "languageId": "python"
    }
   },
   "outputs": [],
   "source": [
    "# YOUR CODE HERE"
   ]
  },
  {
   "cell_type": "markdown",
   "id": "65ad5d7d",
   "metadata": {},
   "source": [
    "👉 Now you can use the [`scipy.io.wavfile.write`](https://docs.scipy.org/doc/scipy/reference/generated/scipy.io.wavfile.write.html) function to save the array as a WAV file."
   ]
  },
  {
   "cell_type": "code",
   "execution_count": null,
   "id": "f8decb02",
   "metadata": {
    "ExecuteTime": {
     "end_time": "2023-01-26T10:21:15.367758Z",
     "start_time": "2023-01-26T10:21:15.274457Z"
    },
    "vscode": {
     "languageId": "python"
    }
   },
   "outputs": [],
   "source": [
    "from scipy.io import wavfile"
   ]
  },
  {
   "cell_type": "markdown",
   "id": "a4d03fcb",
   "metadata": {},
   "source": [
    "## What is `array_2`?"
   ]
  },
  {
   "cell_type": "code",
   "execution_count": null,
   "id": "9b939187",
   "metadata": {
    "ExecuteTime": {
     "end_time": "2023-01-26T10:21:18.548704Z",
     "start_time": "2023-01-26T10:21:18.542180Z"
    },
    "vscode": {
     "languageId": "python"
    }
   },
   "outputs": [],
   "source": [
    "# Check the shape"
   ]
  },
  {
   "cell_type": "markdown",
   "id": "5392024a",
   "metadata": {},
   "source": [
    "👉 Use `matplotlib.pyplot.imshow`, with the most appropriate [`cmap` (colormap)](https://matplotlib.org/stable/tutorials/colors/colormaps.html)"
   ]
  },
  {
   "cell_type": "code",
   "execution_count": null,
   "id": "036cfe50",
   "metadata": {
    "ExecuteTime": {
     "end_time": "2023-01-26T10:21:22.423257Z",
     "start_time": "2023-01-26T10:21:22.417058Z"
    },
    "vscode": {
     "languageId": "python"
    }
   },
   "outputs": [],
   "source": [
    "# YOUR CODE HERE"
   ]
  },
  {
   "cell_type": "markdown",
   "id": "9f607e4f",
   "metadata": {},
   "source": [
    "👉 Use NumPy's `slicing` to isolate one part of the image"
   ]
  },
  {
   "cell_type": "code",
   "execution_count": null,
   "id": "397bbf80",
   "metadata": {
    "ExecuteTime": {
     "end_time": "2023-01-26T10:21:25.757055Z",
     "start_time": "2023-01-26T10:21:25.751161Z"
    },
    "vscode": {
     "languageId": "python"
    }
   },
   "outputs": [],
   "source": [
    "# YOUR CODE HERE"
   ]
  },
  {
   "cell_type": "markdown",
   "id": "758ebfb2",
   "metadata": {},
   "source": [
    "👉 What does the following line do? Show the resulting image with `matplotlib.pyplot.imshow`!\n",
    "\n",
    "<details>\n",
    "<summary><i>Answer</i></summary>\n",
    "    \n",
    "It downscales the image by taking only one 1 row out of 3 and 1 column out of 3 from the initial image\n",
    "</details>"
   ]
  },
  {
   "cell_type": "code",
   "execution_count": null,
   "id": "fd18187e",
   "metadata": {
    "ExecuteTime": {
     "end_time": "2023-01-26T10:21:31.556666Z",
     "start_time": "2023-01-26T10:21:31.552141Z"
    },
    "vscode": {
     "languageId": "python"
    }
   },
   "outputs": [],
   "source": [
    "array_2bis = array_2[::3, ::3]"
   ]
  },
  {
   "cell_type": "markdown",
   "id": "ff2ff73e",
   "metadata": {},
   "source": [
    "👉 Run the following line to see how the pixels' value are distributed:"
   ]
  },
  {
   "cell_type": "code",
   "execution_count": null,
   "id": "f30b812c",
   "metadata": {
    "vscode": {
     "languageId": "python"
    }
   },
   "outputs": [],
   "source": [
    "plt.hist(array_2bis.ravel(), bins=50);"
   ]
  },
  {
   "cell_type": "markdown",
   "id": "f1a8050b",
   "metadata": {},
   "source": [
    "👉 What do the following lines do? \n",
    "\n",
    "<details>\n",
    "<summary><i>Answer</i></summary>\n",
    "    \n",
    "With NumPy's magic `boolean indexing`: \n",
    "\n",
    "- all values inferior to 0.5 are replaced by 0. (black)\n",
    "\n",
    "- all values superior to 0.5 are replaced by 1. (white)\n",
    "\n",
    "Here the image is *binarized*\n",
    "</details>"
   ]
  },
  {
   "cell_type": "code",
   "execution_count": null,
   "id": "53c8598f",
   "metadata": {
    "ExecuteTime": {
     "end_time": "2023-01-26T10:21:41.811100Z",
     "start_time": "2023-01-26T10:21:41.800669Z"
    },
    "vscode": {
     "languageId": "python"
    }
   },
   "outputs": [],
   "source": [
    "array_2ter = array_2bis.copy()\n",
    "array_2ter[array_2bis < 128] = 0\n",
    "array_2ter[array_2bis >= 128] = 1"
   ]
  },
  {
   "cell_type": "markdown",
   "id": "461baedc",
   "metadata": {},
   "source": [
    "👉 Save your image as a PNG file or as a JPEG file using [`matplotlib.pyplot.imsave`](https://matplotlib.org/stable/api/_as_gen/matplotlib.pyplot.imsave.html) (again, use the appropriate `cmap`)"
   ]
  },
  {
   "cell_type": "code",
   "execution_count": null,
   "id": "7e4f4795",
   "metadata": {
    "vscode": {
     "languageId": "python"
    }
   },
   "outputs": [],
   "source": [
    "# YOUR CODE HERE"
   ]
  },
  {
   "cell_type": "code",
   "execution_count": null,
   "id": "424f08d4",
   "metadata": {},
   "outputs": [],
   "source": [
    "# Now check if you can open the file outside this notebook!"
   ]
  },
  {
   "cell_type": "markdown",
   "id": "11e1a60d",
   "metadata": {},
   "source": [
    "## What is `array_3`?"
   ]
  },
  {
   "cell_type": "code",
   "execution_count": null,
   "id": "bad53e40",
   "metadata": {
    "ExecuteTime": {
     "end_time": "2023-01-26T10:22:10.275526Z",
     "start_time": "2023-01-26T10:22:10.272253Z"
    },
    "vscode": {
     "languageId": "python"
    }
   },
   "outputs": [],
   "source": [
    "# Check the shape"
   ]
  },
  {
   "cell_type": "markdown",
   "id": "97ed6061",
   "metadata": {},
   "source": [
    "👉 Inspect the *channels*, by running the following snippet of code"
   ]
  },
  {
   "cell_type": "code",
   "execution_count": null,
   "id": "9d473341",
   "metadata": {
    "vscode": {
     "languageId": "python"
    }
   },
   "outputs": [],
   "source": [
    "fig, axs = plt.subplots(1, 5, figsize=(12, 3))\n",
    "axi = axs.flat # axi is an \"iterator\" of axes\n",
    "\n",
    "ax = next(axi)\n",
    "ax.imshow(array_3, )\n",
    "ax.axis(\"off\")\n",
    "\n",
    "ax = next(axi)\n",
    "ax.imshow(array_3[:,:,0], cmap=\"gray\")\n",
    "ax.axis(\"off\")\n",
    "\n",
    "ax = next(axi)\n",
    "ax.imshow(array_3[:,:,1], cmap=\"gray\")\n",
    "ax.axis(\"off\")\n",
    "\n",
    "ax = next(axi)\n",
    "ax.imshow(array_3[:,:,2], cmap=\"gray\")\n",
    "ax.axis(\"off\")\n",
    "\n",
    "ax = next(axi)\n",
    "ax.imshow(array_3[:,:,3], cmap=\"gray\")\n",
    "ax.axis(\"off\");"
   ]
  },
  {
   "cell_type": "markdown",
   "id": "d8c4251b",
   "metadata": {},
   "source": [
    "👉 Can you guess what are the four channels?\n",
    "\n",
    "<details>\n",
    "<summary><i>Answer</i></summary>\n",
    "RGB + A \n",
    "\n",
    "A (alpha) is the opacity channel. Here all pixels are 1. (= opaque).\n",
    "</details>"
   ]
  },
  {
   "cell_type": "markdown",
   "id": "e748ce97",
   "metadata": {},
   "source": [
    "👉 What does the following line do?\n",
    "\n",
    "<details>\n",
    "<summary><i>Answer</i></summary>\n",
    "\"For each pixel, if the value in the *3d* channel (blue) is superior to 0.7, set the *4th* channel to 1 (= opaque). Otherwise set it to 0 (= transparent)\"\n",
    "</details>"
   ]
  },
  {
   "cell_type": "code",
   "execution_count": null,
   "id": "dca37437",
   "metadata": {
    "vscode": {
     "languageId": "python"
    }
   },
   "outputs": [],
   "source": [
    "array_3_bis[:,:,3] = (array_3[:,:,2] < 175).astype(int) * 255\n",
    "\n",
    "# YOUR CODE HERE"
   ]
  },
  {
   "cell_type": "markdown",
   "id": "57900cf1",
   "metadata": {},
   "source": [
    "👉 Save it as a PNG file (⚠️ the JPG format does not support transparency)"
   ]
  },
  {
   "cell_type": "code",
   "execution_count": null,
   "id": "d6693549",
   "metadata": {
    "vscode": {
     "languageId": "python"
    }
   },
   "outputs": [],
   "source": [
    "# YOUR CODE HERE\n",
    "\n"
   ]
  },
  {
   "cell_type": "code",
   "execution_count": null,
   "id": "a8020a38",
   "metadata": {},
   "outputs": [],
   "source": [
    "# Now, open it and paste it on a dark background!"
   ]
  },
  {
   "cell_type": "markdown",
   "id": "0357da12",
   "metadata": {},
   "source": [
    "## What is `array_4`?"
   ]
  },
  {
   "cell_type": "code",
   "execution_count": null,
   "id": "725c2155",
   "metadata": {
    "vscode": {
     "languageId": "python"
    }
   },
   "outputs": [],
   "source": [
    "# Check the shape"
   ]
  },
  {
   "cell_type": "markdown",
   "id": "02234c91",
   "metadata": {},
   "source": [
    "👉 Inspect the frames by running the following snippet:"
   ]
  },
  {
   "cell_type": "code",
   "execution_count": null,
   "id": "036fd73c",
   "metadata": {
    "vscode": {
     "languageId": "python"
    }
   },
   "outputs": [],
   "source": [
    "fig, axs = plt.subplots(2, 4, figsize=(12, 6)) \n",
    "axi = axs.flat\n",
    "for frame in np.arange(0, 38, 5):\n",
    "    ax = next(axi)\n",
    "    ax.imshow(array_4[frame, :, :, :]),\n",
    "    ax.axis(\"off\")"
   ]
  },
  {
   "cell_type": "markdown",
   "id": "eb370f99",
   "metadata": {},
   "source": [
    "👉 Feel free to do whatever transformation you want with it!"
   ]
  },
  {
   "cell_type": "code",
   "execution_count": null,
   "id": "f3ce3dab",
   "metadata": {
    "vscode": {
     "languageId": "python"
    }
   },
   "outputs": [],
   "source": [
    "# YOUR CODE HERE"
   ]
  },
  {
   "cell_type": "markdown",
   "id": "47dbb31f",
   "metadata": {},
   "source": [
    "👉 Save it as a GIF file!"
   ]
  },
  {
   "cell_type": "code",
   "execution_count": null,
   "id": "8ecd5685",
   "metadata": {
    "vscode": {
     "languageId": "python"
    }
   },
   "outputs": [],
   "source": [
    "from PIL import Image\n",
    "\n",
    "frames_img = [Image.fromarray(frame) for frame in array_4]\n",
    "first_frame = frames_img[0]\n",
    "first_frame.save(\"kitten.gif\", save_all=True, append_images=frames_img[1:], duration=100, loop=0)"
   ]
  },
  {
   "cell_type": "markdown",
   "id": "5e7c5486",
   "metadata": {},
   "source": [
    "## Conclusion\n",
    "\n",
    "👏 Bravo! Now you're mastering **🎸 sound** and **🎨 image** treatment with Python... \n",
    "\n",
    "... and this is just a taste of the amazing Machine Learning / Deep Learning **🚀 projects** you're gonna do with those skills!!"
   ]
  }
 ],
 "metadata": {
  "kernelspec": {
   "display_name": "Python 3 (ipykernel)",
   "language": "python",
   "name": "python3"
  },
  "language_info": {
   "codemirror_mode": {
    "name": "ipython",
    "version": 3
   },
   "file_extension": ".py",
   "mimetype": "text/x-python",
   "name": "python",
   "nbconvert_exporter": "python",
   "pygments_lexer": "ipython3",
   "version": "3.10.6"
  },
  "toc": {
   "base_numbering": 1,
   "nav_menu": {},
   "number_sections": false,
   "sideBar": true,
   "skip_h1_title": false,
   "title_cell": "Table of Contents",
   "title_sidebar": "Contents",
   "toc_cell": false,
   "toc_position": {},
   "toc_section_display": true,
   "toc_window_display": false
  }
 },
 "nbformat": 4,
 "nbformat_minor": 5
}
